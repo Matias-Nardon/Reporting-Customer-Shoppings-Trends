{
  "metadata": {
    "kernelspec": {
      "name": "python",
      "display_name": "Python (Pyodide)",
      "language": "python"
    },
    "language_info": {
      "codemirror_mode": {
        "name": "python",
        "version": 3
      },
      "file_extension": ".py",
      "mimetype": "text/x-python",
      "name": "python",
      "nbconvert_exporter": "python",
      "pygments_lexer": "ipython3",
      "version": "3.8"
    }
  },
  "nbformat_minor": 4,
  "nbformat": 4,
  "cells": [
    {
      "cell_type": "markdown",
      "source": "# Customer Shopping Trends Dataset",
      "metadata": {}
    },
    {
      "cell_type": "markdown",
      "source": "**Este conjunto de datos incluye varias características relacionadas con las preferencias de compra de los clientes, ofreciendo información valiosa sobre el comportamiento y los patrones de compra de los consumidores.\nEste análisis es fundamental para comprender la naturaleza de los datos, detectar posibles errores o inconsistencias, y tomar decisiones informadas en el proceso de análisis y modelado.**",
      "metadata": {}
    },
    {
      "cell_type": "markdown",
      "source": "## Importar librerías",
      "metadata": {}
    },
    {
      "cell_type": "code",
      "source": "import pandas as pd",
      "metadata": {
        "trusted": true
      },
      "outputs": [],
      "execution_count": 42
    },
    {
      "cell_type": "markdown",
      "source": "## Cargar Dataset",
      "metadata": {}
    },
    {
      "cell_type": "code",
      "source": "data = pd.read_csv ('shopping_trends_updated.csv')",
      "metadata": {
        "trusted": true
      },
      "outputs": [],
      "execution_count": 11
    },
    {
      "cell_type": "markdown",
      "source": "## Análisis de la Calidad de los Datos\n### *1- Cantidad de registros y columnas*\n",
      "metadata": {}
    },
    {
      "cell_type": "code",
      "source": "data.shape",
      "metadata": {
        "trusted": true
      },
      "outputs": [
        {
          "execution_count": 12,
          "output_type": "execute_result",
          "data": {
            "text/plain": "(3900, 18)"
          },
          "metadata": {}
        }
      ],
      "execution_count": 12
    },
    {
      "cell_type": "markdown",
      "source": "### *2- Conocer información de los datos, vista previa de 5 registros*",
      "metadata": {}
    },
    {
      "cell_type": "code",
      "source": "data.head()",
      "metadata": {
        "trusted": true
      },
      "outputs": [
        {
          "execution_count": 14,
          "output_type": "execute_result",
          "data": {
            "text/plain": "   Customer ID  Age Gender Item Purchased  Category  Purchase Amount (USD)  \\\n0            1   55   Male         Blouse  Clothing                     53   \n1            2   19   Male        Sweater  Clothing                     64   \n2            3   50   Male          Jeans  Clothing                     73   \n3            4   21   Male        Sandals  Footwear                     90   \n4            5   45   Male         Blouse  Clothing                     49   \n\n        Location Size      Color  Season  Review Rating Subscription Status  \\\n0       Kentucky    L       Gray  Winter            3.1                 Yes   \n1          Maine    L     Maroon  Winter            3.1                 Yes   \n2  Massachusetts    S     Maroon  Spring            3.1                 Yes   \n3   Rhode Island    M     Maroon  Spring            3.5                 Yes   \n4         Oregon    M  Turquoise  Spring            2.7                 Yes   \n\n   Shipping Type Discount Applied Promo Code Used  Previous Purchases  \\\n0        Express              Yes             Yes                  14   \n1        Express              Yes             Yes                   2   \n2  Free Shipping              Yes             Yes                  23   \n3   Next Day Air              Yes             Yes                  49   \n4  Free Shipping              Yes             Yes                  31   \n\n  Payment Method Frequency of Purchases  \n0          Venmo            Fortnightly  \n1           Cash            Fortnightly  \n2    Credit Card                 Weekly  \n3         PayPal                 Weekly  \n4         PayPal               Annually  ",
            "text/html": "<div>\n<style scoped>\n    .dataframe tbody tr th:only-of-type {\n        vertical-align: middle;\n    }\n\n    .dataframe tbody tr th {\n        vertical-align: top;\n    }\n\n    .dataframe thead th {\n        text-align: right;\n    }\n</style>\n<table border=\"1\" class=\"dataframe\">\n  <thead>\n    <tr style=\"text-align: right;\">\n      <th></th>\n      <th>Customer ID</th>\n      <th>Age</th>\n      <th>Gender</th>\n      <th>Item Purchased</th>\n      <th>Category</th>\n      <th>Purchase Amount (USD)</th>\n      <th>Location</th>\n      <th>Size</th>\n      <th>Color</th>\n      <th>Season</th>\n      <th>Review Rating</th>\n      <th>Subscription Status</th>\n      <th>Shipping Type</th>\n      <th>Discount Applied</th>\n      <th>Promo Code Used</th>\n      <th>Previous Purchases</th>\n      <th>Payment Method</th>\n      <th>Frequency of Purchases</th>\n    </tr>\n  </thead>\n  <tbody>\n    <tr>\n      <th>0</th>\n      <td>1</td>\n      <td>55</td>\n      <td>Male</td>\n      <td>Blouse</td>\n      <td>Clothing</td>\n      <td>53</td>\n      <td>Kentucky</td>\n      <td>L</td>\n      <td>Gray</td>\n      <td>Winter</td>\n      <td>3.1</td>\n      <td>Yes</td>\n      <td>Express</td>\n      <td>Yes</td>\n      <td>Yes</td>\n      <td>14</td>\n      <td>Venmo</td>\n      <td>Fortnightly</td>\n    </tr>\n    <tr>\n      <th>1</th>\n      <td>2</td>\n      <td>19</td>\n      <td>Male</td>\n      <td>Sweater</td>\n      <td>Clothing</td>\n      <td>64</td>\n      <td>Maine</td>\n      <td>L</td>\n      <td>Maroon</td>\n      <td>Winter</td>\n      <td>3.1</td>\n      <td>Yes</td>\n      <td>Express</td>\n      <td>Yes</td>\n      <td>Yes</td>\n      <td>2</td>\n      <td>Cash</td>\n      <td>Fortnightly</td>\n    </tr>\n    <tr>\n      <th>2</th>\n      <td>3</td>\n      <td>50</td>\n      <td>Male</td>\n      <td>Jeans</td>\n      <td>Clothing</td>\n      <td>73</td>\n      <td>Massachusetts</td>\n      <td>S</td>\n      <td>Maroon</td>\n      <td>Spring</td>\n      <td>3.1</td>\n      <td>Yes</td>\n      <td>Free Shipping</td>\n      <td>Yes</td>\n      <td>Yes</td>\n      <td>23</td>\n      <td>Credit Card</td>\n      <td>Weekly</td>\n    </tr>\n    <tr>\n      <th>3</th>\n      <td>4</td>\n      <td>21</td>\n      <td>Male</td>\n      <td>Sandals</td>\n      <td>Footwear</td>\n      <td>90</td>\n      <td>Rhode Island</td>\n      <td>M</td>\n      <td>Maroon</td>\n      <td>Spring</td>\n      <td>3.5</td>\n      <td>Yes</td>\n      <td>Next Day Air</td>\n      <td>Yes</td>\n      <td>Yes</td>\n      <td>49</td>\n      <td>PayPal</td>\n      <td>Weekly</td>\n    </tr>\n    <tr>\n      <th>4</th>\n      <td>5</td>\n      <td>45</td>\n      <td>Male</td>\n      <td>Blouse</td>\n      <td>Clothing</td>\n      <td>49</td>\n      <td>Oregon</td>\n      <td>M</td>\n      <td>Turquoise</td>\n      <td>Spring</td>\n      <td>2.7</td>\n      <td>Yes</td>\n      <td>Free Shipping</td>\n      <td>Yes</td>\n      <td>Yes</td>\n      <td>31</td>\n      <td>PayPal</td>\n      <td>Annually</td>\n    </tr>\n  </tbody>\n</table>\n</div>"
          },
          "metadata": {}
        }
      ],
      "execution_count": 14
    },
    {
      "cell_type": "markdown",
      "source": "### *3- Tipos de datos de cada columna* ",
      "metadata": {}
    },
    {
      "cell_type": "code",
      "source": "print(data.dtypes)",
      "metadata": {
        "trusted": true
      },
      "outputs": [
        {
          "name": "stdout",
          "text": "Customer ID                 int64\nAge                         int64\nGender                     object\nItem Purchased             object\nCategory                   object\nPurchase Amount (USD)       int64\nLocation                   object\nSize                       object\nColor                      object\nSeason                     object\nReview Rating             float64\nSubscription Status        object\nShipping Type              object\nDiscount Applied           object\nPromo Code Used            object\nPrevious Purchases          int64\nPayment Method             object\nFrequency of Purchases     object\ndtype: object\n",
          "output_type": "stream"
        }
      ],
      "execution_count": 15
    },
    {
      "cell_type": "markdown",
      "source": "### *4- Cantidad de columnas con valores nulos*",
      "metadata": {}
    },
    {
      "cell_type": "code",
      "source": "print(data.isna().sum())",
      "metadata": {
        "trusted": true
      },
      "outputs": [
        {
          "name": "stdout",
          "text": "Customer ID               0\nAge                       0\nGender                    0\nItem Purchased            0\nCategory                  0\nPurchase Amount (USD)     0\nLocation                  0\nSize                      0\nColor                     0\nSeason                    0\nReview Rating             0\nSubscription Status       0\nShipping Type             0\nDiscount Applied          0\nPromo Code Used           0\nPrevious Purchases        0\nPayment Method            0\nFrequency of Purchases    0\ndtype: int64\n",
          "output_type": "stream"
        }
      ],
      "execution_count": 16
    },
    {
      "cell_type": "markdown",
      "source": "### *5- Verificar si hay duplicados*",
      "metadata": {}
    },
    {
      "cell_type": "code",
      "source": "print(data.duplicated().sum())",
      "metadata": {
        "trusted": true
      },
      "outputs": [
        {
          "name": "stdout",
          "text": "0\n",
          "output_type": "stream"
        }
      ],
      "execution_count": 17
    },
    {
      "cell_type": "markdown",
      "source": "### *6- Análisis Estadístico:*\n**Count** (El número de valores no nulos en la columna)\n\n**Mean** (La media aritmética de la columna)\n\n**Std** (La desviación estándar de la columna)\n\n**Min** (El valor mínimo en la columna)\n\n**25%** (El primer cuartil (percentil 25) de la columna)\n\n**50%** (La mediana (percentil 50) de la columna)\n\n**75%** (El tercer cuartil (percentil 75) de la columna)\n\n**Max** (El valor máximo en la columna)",
      "metadata": {}
    },
    {
      "cell_type": "code",
      "source": "data.describe()",
      "metadata": {
        "trusted": true
      },
      "outputs": [
        {
          "execution_count": 19,
          "output_type": "execute_result",
          "data": {
            "text/plain": "       Customer ID          Age  Purchase Amount (USD)  Review Rating  \\\ncount  3900.000000  3900.000000            3900.000000    3900.000000   \nmean   1950.500000    44.068462              59.764359       3.749949   \nstd    1125.977353    15.207589              23.685392       0.716223   \nmin       1.000000    18.000000              20.000000       2.500000   \n25%     975.750000    31.000000              39.000000       3.100000   \n50%    1950.500000    44.000000              60.000000       3.700000   \n75%    2925.250000    57.000000              81.000000       4.400000   \nmax    3900.000000    70.000000             100.000000       5.000000   \n\n       Previous Purchases  \ncount         3900.000000  \nmean            25.351538  \nstd             14.447125  \nmin              1.000000  \n25%             13.000000  \n50%             25.000000  \n75%             38.000000  \nmax             50.000000  ",
            "text/html": "<div>\n<style scoped>\n    .dataframe tbody tr th:only-of-type {\n        vertical-align: middle;\n    }\n\n    .dataframe tbody tr th {\n        vertical-align: top;\n    }\n\n    .dataframe thead th {\n        text-align: right;\n    }\n</style>\n<table border=\"1\" class=\"dataframe\">\n  <thead>\n    <tr style=\"text-align: right;\">\n      <th></th>\n      <th>Customer ID</th>\n      <th>Age</th>\n      <th>Purchase Amount (USD)</th>\n      <th>Review Rating</th>\n      <th>Previous Purchases</th>\n    </tr>\n  </thead>\n  <tbody>\n    <tr>\n      <th>count</th>\n      <td>3900.000000</td>\n      <td>3900.000000</td>\n      <td>3900.000000</td>\n      <td>3900.000000</td>\n      <td>3900.000000</td>\n    </tr>\n    <tr>\n      <th>mean</th>\n      <td>1950.500000</td>\n      <td>44.068462</td>\n      <td>59.764359</td>\n      <td>3.749949</td>\n      <td>25.351538</td>\n    </tr>\n    <tr>\n      <th>std</th>\n      <td>1125.977353</td>\n      <td>15.207589</td>\n      <td>23.685392</td>\n      <td>0.716223</td>\n      <td>14.447125</td>\n    </tr>\n    <tr>\n      <th>min</th>\n      <td>1.000000</td>\n      <td>18.000000</td>\n      <td>20.000000</td>\n      <td>2.500000</td>\n      <td>1.000000</td>\n    </tr>\n    <tr>\n      <th>25%</th>\n      <td>975.750000</td>\n      <td>31.000000</td>\n      <td>39.000000</td>\n      <td>3.100000</td>\n      <td>13.000000</td>\n    </tr>\n    <tr>\n      <th>50%</th>\n      <td>1950.500000</td>\n      <td>44.000000</td>\n      <td>60.000000</td>\n      <td>3.700000</td>\n      <td>25.000000</td>\n    </tr>\n    <tr>\n      <th>75%</th>\n      <td>2925.250000</td>\n      <td>57.000000</td>\n      <td>81.000000</td>\n      <td>4.400000</td>\n      <td>38.000000</td>\n    </tr>\n    <tr>\n      <th>max</th>\n      <td>3900.000000</td>\n      <td>70.000000</td>\n      <td>100.000000</td>\n      <td>5.000000</td>\n      <td>50.000000</td>\n    </tr>\n  </tbody>\n</table>\n</div>"
          },
          "metadata": {}
        }
      ],
      "execution_count": 19
    },
    {
      "cell_type": "markdown",
      "source": "### *7- Ciclo for para obtener más cálculos estadísticos:*\n**Mediana** (El valor central de los datos cuando están ordenados)\n\n**Varianza** (Una medida de dispersión de los datos respecto a su media)\n\n**Rango** (La diferencia entre el valor máximo y mínimo)\n\n**Moda** (El valor que más se repite en los datos)",
      "metadata": {}
    },
    {
      "cell_type": "code",
      "source": "def calculos_estaditiscos(data):\n    for i in data.columns:\n        if data[i].dtype == 'float64' or data[i].dtype == 'int64':\n            print(i)\n            print('Mediana:',data[i].median())\n            print('Varianza:',data[i].var())\n            print('Rango', data[i].max()-data[i].min())\n            print(\"Moda\",data[i].mode())\n            print('__')\n\ncalculos_estaditiscos(data)",
      "metadata": {
        "trusted": true
      },
      "outputs": [
        {
          "name": "stdout",
          "text": "Customer ID\nMediana: 1950.5\nVarianza: 1267825.0\nRango 3899\nModa 0          1\n1          2\n2          3\n3          4\n4          5\n        ... \n3895    3896\n3896    3897\n3897    3898\n3898    3899\n3899    3900\nName: Customer ID, Length: 3900, dtype: int64\n__\nAge\nMediana: 44.0\nVarianza: 231.27076706058753\nRango 52\nModa 0    69\nName: Age, dtype: int64\n__\nPurchase Amount (USD)\nMediana: 60.0\nVarianza: 560.997806077824\nRango 80\nModa 0    32\n1    36\n2    94\nName: Purchase Amount (USD), dtype: int64\n__\nReview Rating\nMediana: 3.7\nVarianza: 0.512975119195586\nRango 2.5\nModa 0    3.4\nName: Review Rating, dtype: float64\n__\nPrevious Purchases\nMediana: 25.0\nVarianza: 208.7194256910056\nRango 49\nModa 0    31\nName: Previous Purchases, dtype: int64\n__\n",
          "output_type": "stream"
        }
      ],
      "execution_count": 20
    },
    {
      "cell_type": "markdown",
      "source": "### **8- Exploración detallada de las columnas numéricas**\n**Contar la cantidad de valores únicos:** Identifica la diversidad de valores dentro de cada columna\n\n**Analizar la frecuencia de cada valor:** Permite detectar valores atípicos o patrones recurrentes",
      "metadata": {}
    },
    {
      "cell_type": "markdown",
      "source": "**1- ITEM PURCHASED (articulos comprados)**",
      "metadata": {}
    },
    {
      "cell_type": "code",
      "source": "print(f\"Cantidad de registros distintos de los Artículos Comprados: {data['Item Purchased'].nunique()}\")",
      "metadata": {
        "trusted": true
      },
      "outputs": [
        {
          "name": "stdout",
          "text": "Cantidad de registros distintos de los Artículos Comprados: 25\n",
          "output_type": "stream"
        }
      ],
      "execution_count": 22
    },
    {
      "cell_type": "code",
      "source": "print(f\"Cantidad de valores por {data['Item Purchased'].value_counts()}\")",
      "metadata": {
        "trusted": true
      },
      "outputs": [
        {
          "name": "stdout",
          "text": "Cantidad de valores por Item Purchased\nBlouse        171\nJewelry       171\nPants         171\nShirt         169\nDress         166\nSweater       164\nJacket        163\nBelt          161\nSunglasses    161\nCoat          161\nSandals       160\nSocks         159\nSkirt         158\nShorts        157\nScarf         157\nHat           154\nHandbag       153\nHoodie        151\nShoes         150\nT-shirt       147\nSneakers      145\nBoots         144\nBackpack      143\nGloves        140\nJeans         124\nName: count, dtype: int64\n",
          "output_type": "stream"
        }
      ],
      "execution_count": 23
    },
    {
      "cell_type": "markdown",
      "source": "**2- CATEGORY (categoría)**",
      "metadata": {}
    },
    {
      "cell_type": "code",
      "source": "print(f\"Cantidad de registros distintos de Categorias: {data['Category'].nunique()}\")",
      "metadata": {
        "trusted": true
      },
      "outputs": [
        {
          "name": "stdout",
          "text": "Cantidad de registros distintos de Categorias: 4\n",
          "output_type": "stream"
        }
      ],
      "execution_count": 24
    },
    {
      "cell_type": "code",
      "source": "print(f\"Cantidad de valores por {data['Category'].value_counts()}\")",
      "metadata": {
        "trusted": true
      },
      "outputs": [
        {
          "name": "stdout",
          "text": "Cantidad de valores por Category\nClothing       1737\nAccessories    1240\nFootwear        599\nOuterwear       324\nName: count, dtype: int64\n",
          "output_type": "stream"
        }
      ],
      "execution_count": 25
    },
    {
      "cell_type": "markdown",
      "source": "**3- LOCATION (ubicación)**",
      "metadata": {}
    },
    {
      "cell_type": "code",
      "source": "print(f\"Cantidad de registros distintos en Location: {data['Location'].nunique()}\")",
      "metadata": {
        "trusted": true
      },
      "outputs": [
        {
          "name": "stdout",
          "text": "Cantidad de registros distintos en Location: 50\n",
          "output_type": "stream"
        }
      ],
      "execution_count": 26
    },
    {
      "cell_type": "code",
      "source": "print(f\"Cantidad de valores por {data['Location'].value_counts()}\")",
      "metadata": {
        "trusted": true
      },
      "outputs": [
        {
          "name": "stdout",
          "text": "Cantidad de valores por Location\nMontana           96\nCalifornia        95\nIdaho             93\nIllinois          92\nAlabama           89\nMinnesota         88\nNebraska          87\nNew York          87\nNevada            87\nMaryland          86\nDelaware          86\nVermont           85\nLouisiana         84\nNorth Dakota      83\nMissouri          81\nWest Virginia     81\nNew Mexico        81\nMississippi       80\nIndiana           79\nGeorgia           79\nKentucky          79\nArkansas          79\nNorth Carolina    78\nConnecticut       78\nVirginia          77\nOhio              77\nTennessee         77\nTexas             77\nMaine             77\nSouth Carolina    76\nColorado          75\nOklahoma          75\nWisconsin         75\nOregon            74\nPennsylvania      74\nWashington        73\nMichigan          73\nAlaska            72\nMassachusetts     72\nWyoming           71\nUtah              71\nNew Hampshire     71\nSouth Dakota      70\nIowa              69\nFlorida           68\nNew Jersey        67\nHawaii            65\nArizona           65\nKansas            63\nRhode Island      63\nName: count, dtype: int64\n",
          "output_type": "stream"
        }
      ],
      "execution_count": 27
    },
    {
      "cell_type": "markdown",
      "source": "**4- SIZE (tamaño)**",
      "metadata": {}
    },
    {
      "cell_type": "code",
      "source": "print(f\"Cantidad de registros distintos de Tamaños: {data['Size'].nunique()}\")",
      "metadata": {
        "trusted": true
      },
      "outputs": [
        {
          "name": "stdout",
          "text": "Cantidad de registros distintos de Tamaños: 4\n",
          "output_type": "stream"
        }
      ],
      "execution_count": 28
    },
    {
      "cell_type": "code",
      "source": "print(f\"Cantidad de valores por {data['Size'].value_counts()}\")",
      "metadata": {
        "trusted": true
      },
      "outputs": [
        {
          "name": "stdout",
          "text": "Cantidad de valores por Size\nM     1755\nL     1053\nS      663\nXL     429\nName: count, dtype: int64\n",
          "output_type": "stream"
        }
      ],
      "execution_count": 29
    },
    {
      "cell_type": "markdown",
      "source": "**5- COLOR (colores)**",
      "metadata": {}
    },
    {
      "cell_type": "code",
      "source": "print(f\"Cantidad de registros distintos en Colores: {data['Color'].nunique()}\")",
      "metadata": {
        "trusted": true
      },
      "outputs": [
        {
          "name": "stdout",
          "text": "Cantidad de registros distintos en Colores: 25\n",
          "output_type": "stream"
        }
      ],
      "execution_count": 30
    },
    {
      "cell_type": "code",
      "source": "print(f\"Cantidad de valores por {data['Color'].value_counts()}\")",
      "metadata": {
        "trusted": true
      },
      "outputs": [
        {
          "name": "stdout",
          "text": "Cantidad de valores por Color\nOlive        177\nYellow       174\nSilver       173\nTeal         172\nGreen        169\nBlack        167\nCyan         166\nViolet       166\nGray         159\nMaroon       158\nOrange       154\nCharcoal     153\nPink         153\nMagenta      152\nBlue         152\nPurple       151\nPeach        149\nRed          148\nBeige        147\nIndigo       147\nLavender     147\nTurquoise    145\nWhite        142\nBrown        141\nGold         138\nName: count, dtype: int64\n",
          "output_type": "stream"
        }
      ],
      "execution_count": 32
    },
    {
      "cell_type": "markdown",
      "source": "**6- SEASON (temporada)**",
      "metadata": {}
    },
    {
      "cell_type": "code",
      "source": "print(f\"Cantidad de registros distintos de Temporadas: {data['Season'].nunique()}\")",
      "metadata": {
        "trusted": true
      },
      "outputs": [
        {
          "name": "stdout",
          "text": "Cantidad de registros distintos de Temporadas: 4\n",
          "output_type": "stream"
        }
      ],
      "execution_count": 33
    },
    {
      "cell_type": "code",
      "source": "print(f\"Cantidad de valores por {data['Season'].value_counts()}\")",
      "metadata": {
        "trusted": true
      },
      "outputs": [
        {
          "name": "stdout",
          "text": "Cantidad de valores por Season\nSpring    999\nFall      975\nWinter    971\nSummer    955\nName: count, dtype: int64\n",
          "output_type": "stream"
        }
      ],
      "execution_count": 34
    },
    {
      "cell_type": "markdown",
      "source": "**7- Shipping Type (tipo de envío)**",
      "metadata": {}
    },
    {
      "cell_type": "code",
      "source": "print(f\"Cantidad de registros distintos en los Tipos de envío: {data['Shipping Type'].nunique()}\")",
      "metadata": {
        "trusted": true
      },
      "outputs": [
        {
          "name": "stdout",
          "text": "Cantidad de registros distintos en los Tipos de envío: 6\n",
          "output_type": "stream"
        }
      ],
      "execution_count": 35
    },
    {
      "cell_type": "code",
      "source": "print(f\"Cantidad de valores por {data['Shipping Type'].value_counts()}\")",
      "metadata": {
        "trusted": true
      },
      "outputs": [
        {
          "name": "stdout",
          "text": "Cantidad de valores por Shipping Type\nFree Shipping     675\nStandard          654\nStore Pickup      650\nNext Day Air      648\nExpress           646\n2-Day Shipping    627\nName: count, dtype: int64\n",
          "output_type": "stream"
        }
      ],
      "execution_count": 36
    },
    {
      "cell_type": "markdown",
      "source": "**8- Payment Method (Métodos de Pago)**",
      "metadata": {}
    },
    {
      "cell_type": "code",
      "source": "print(f\"Cantidad de registros distintos en los Métodos de Pago: {data['Payment Method'].nunique()}\")",
      "metadata": {
        "trusted": true
      },
      "outputs": [
        {
          "name": "stdout",
          "text": "Cantidad de registros distintos en los Métodos de Pago: 6\n",
          "output_type": "stream"
        }
      ],
      "execution_count": 38
    },
    {
      "cell_type": "code",
      "source": "print(f\"Cantidad de valores por {data['Payment Method'].value_counts()}\")",
      "metadata": {
        "trusted": true
      },
      "outputs": [
        {
          "name": "stdout",
          "text": "Cantidad de valores por Payment Method\nPayPal           677\nCredit Card      671\nCash             670\nDebit Card       636\nVenmo            634\nBank Transfer    612\nName: count, dtype: int64\n",
          "output_type": "stream"
        }
      ],
      "execution_count": 39
    },
    {
      "cell_type": "markdown",
      "source": "**9- Frequency of Purchases (Frecuencia de compras)**",
      "metadata": {}
    },
    {
      "cell_type": "code",
      "source": "print(f\"Cantidad de registros distintos en la Frecuencia de Compras: {data['Frequency of Purchases'].nunique()}\")",
      "metadata": {
        "trusted": true
      },
      "outputs": [
        {
          "name": "stdout",
          "text": "Cantidad de registros distintos en la Frecuencia de Compras: 7\n",
          "output_type": "stream"
        }
      ],
      "execution_count": 40
    },
    {
      "cell_type": "code",
      "source": "print(f\"Cantidad de valores por {data['Frequency of Purchases'].value_counts()}\")",
      "metadata": {
        "trusted": true
      },
      "outputs": [
        {
          "name": "stdout",
          "text": "Cantidad de valores por Frequency of Purchases\nEvery 3 Months    584\nAnnually          572\nQuarterly         563\nMonthly           553\nBi-Weekly         547\nFortnightly       542\nWeekly            539\nName: count, dtype: int64\n",
          "output_type": "stream"
        }
      ],
      "execution_count": 41
    },
    {
      "cell_type": "markdown",
      "source": "## Con el objetivo de extraer el máximo valor de los datos, se llevó a cabo un análisis más profundo en Power BI. A través de visualizaciones interactivas, se logró una comprensión más clara de la distribución de los datos y se identificaron patrones relevantes. Al comparar diferentes variables y segmentar los datos, se obtuvieron insights valiosos que permitieron tomar decisiones más informadas y basadas en datos",
      "metadata": {}
    },
    {
      "cell_type": "code",
      "source": "",
      "metadata": {
        "trusted": true
      },
      "outputs": [],
      "execution_count": null
    }
  ]
}